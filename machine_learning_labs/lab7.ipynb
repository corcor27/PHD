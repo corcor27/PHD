{
 "cells": [
  {
   "cell_type": "code",
   "execution_count": 1,
   "metadata": {},
   "outputs": [],
   "source": [
    "def surrogate_belief(x,f,x_star,theta):\n",
    "    return mu_star, varSigma_star"
   ]
  },
  {
   "cell_type": "code",
   "execution_count": 8,
   "metadata": {},
   "outputs": [],
   "source": [
    "from scipy.stats import norm\n",
    "import numpy as np\n",
    "def expected_improvement(f_n, mu, varSigma, x):\n",
    "    #norm.cdf(x, loc, scale) evaluates the cdf of the normal distribution\n",
    "    return alpha"
   ]
  },
  {
   "cell_type": "code",
   "execution_count": 9,
   "metadata": {},
   "outputs": [],
   "source": [
    "def f(x, beta=0, alpha1=1.0, alpha2=1.0):\n",
    "    return np.sin(3.0*x) - alpha1*x + alpha2*x**2 + beta*np.random.randn(x.shape[0])"
   ]
  },
  {
   "cell_type": "code",
   "execution_count": 10,
   "metadata": {},
   "outputs": [],
   "source": [
    "x_2 = np.arange(10)\n",
    "index = np.random.permutation(10)\n",
    "x_1 = x_2[index[0:3]]\n",
    "x_2 = np.delete(x_2, index[0:3])\n",
    "# remove largest element\n",
    "ind = np.argmax(x_2)\n",
    "x_1 = np.append(x_1, x_2[ind])\n",
    "x_2 = np.delete(x_2, ind)"
   ]
  },
  {
   "cell_type": "code",
   "execution_count": null,
   "metadata": {},
   "outputs": [],
   "source": []
  }
 ],
 "metadata": {
  "kernelspec": {
   "display_name": "Python 3",
   "language": "python",
   "name": "python3"
  },
  "language_info": {
   "codemirror_mode": {
    "name": "ipython",
    "version": 3
   },
   "file_extension": ".py",
   "mimetype": "text/x-python",
   "name": "python",
   "nbconvert_exporter": "python",
   "pygments_lexer": "ipython3",
   "version": "3.7.5"
  }
 },
 "nbformat": 4,
 "nbformat_minor": 2
}
