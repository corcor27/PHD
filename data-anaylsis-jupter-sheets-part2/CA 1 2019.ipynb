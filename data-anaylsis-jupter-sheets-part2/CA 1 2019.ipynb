{
 "cells": [
  {
   "cell_type": "markdown",
   "metadata": {},
   "source": [
    "# Data Analysis 2019/2020 - Coursework 1 \n",
    "***\n",
    "## Deadline: Thursday 31st October 2pm"
   ]
  },
  {
   "cell_type": "markdown",
   "metadata": {},
   "source": [
    "#### Tips"
   ]
  },
  {
   "cell_type": "markdown",
   "metadata": {},
   "source": [
    "This coursework assesses learning outcomes from Block A of the course."
   ]
  },
  {
   "cell_type": "markdown",
   "metadata": {},
   "source": [
    "These assessments are equivalent to an exam:\n",
    "- Submit your work via Turn-It-In on Learning Central. Note that you will need to upload your final notebook exported as a html file. **Don't forget to click `run all` before you export it**. You can constantly update this document until the deadline.\n",
    "- Please put your name as the filename of the Jupyter notebook.\n",
    "- Please also take note of the University’s policy on plagiarism, which is outlined in your student handbook."
   ]
  },
  {
   "cell_type": "markdown",
   "metadata": {},
   "source": [
    "Marks are awarded for \n",
    "- Ability to identify the correct statistical method with sound reasoning.\n",
    "- Evidence of knowledge of the assumptions made or infered from the question.\n",
    "- Application of the statistical method, including correct treatment of the given / inferred data.  \n",
    "- Critical explanations and interpretation of the results.\n",
    "- all working, coding, figures etc must be included and you will need to accompany this with a succinct and tidy report explaining what you did and why.\n",
    "- Full marks can only be awarded where there is proof that the student understands the statistics and the data set that they are being asked to explore. Code, figures and any mathematics carried out count as workings, and must be included in the report/Jupyter notebook to obtain the relevant marks.  \n",
    "\n",
    "- Don't worry about how your code looks - marks are not given for pretty code, but rather for the approach used in solving the problem, your reasoning, explanation and answer."
   ]
  },
  {
   "cell_type": "markdown",
   "metadata": {},
   "source": [
    "***\n",
    "## QUESTION 1\n",
    "***"
   ]
  },
  {
   "cell_type": "markdown",
   "metadata": {},
   "source": [
    "A student is taking three modules, and the probability that they pass any individual module depends on the fraction of lectures attended $f$ so that the probability of passing the module is 0.9$f$. \n",
    "\n",
    "- If the student attends all lectures, ($f =1$), calculate the probability that they\n",
    "will (i) pass all three modules, (ii) fail one module and pass the other two (iii) pass only one module,  (iv) pass no modules. \n",
    "\n",
    "- Show that the sum of these four probabilities is 1. \n",
    "- Calculate the four probabilities on the assumption that the student attends only\n",
    "half of the lectures.\n",
    "- What fraction of lectures must the student attend to have a 50% chance of\n",
    "passing all three modules? \n",
    "- Is this a realistic way to model the probability that the student will pass the\n",
    "modules?\n",
    "\n",
    "[10 marks]"
   ]
  },
  {
   "cell_type": "markdown",
   "metadata": {},
   "source": [
    "#### Answer:"
   ]
  },
  {
   "cell_type": "markdown",
   "metadata": {},
   "source": [
    "Probability of passing module is dependent upon fraction \"f\" where $f = x/N$ where N is the number of lectures and x is the number lectures attended. <br>\n",
    "Probability of passing module P~f = x/N, P(mi)= f*P(pass), as given f = 1 implies P = 0.9 <br>\n",
    "so let mx denote the modules where x = 1,2,3\n",
    "\n",
    "i) P(pass all modules) = P(m1)*P(m2)*P(m3) = 0.9*0.9*0.9 = 0.729\n",
    "ii) P(pass 2, fail 1) = P(m1)*P(m2)*[1-P(m3)] = 0.9*0.9*0.1 =0.081\n",
    "iii) P(pass 1, fail 2) = P(m1)*[1-P(m2)]*[1-P(m3)] = 0.9*0.1*0.1 = 0.009\n",
    "iv) P(pass no modules) = [1-P(m1)]*[1-P(m2)]*[1-P(m3)] = 0.1*0.1*0.1 = 0.001\n",
    "\n",
    "sum of all probabilities P(i) + 3*P(ii) + 3*P(iii) + P(iv) = 1\n",
    "\n",
    "Now assuming f = 0.5 implies P(pass induvidual module) = 0.5*0.9 = 0.45\n",
    "\n",
    "i) P(pass all modules) = P(m1)*P(m2)*P(m3) = 0.45*0.45*0.45 = 0.091125\n",
    "ii) P(pass 2, fail 1) = P(m1)*P(m2)*[1-P(m3)] = 0.45*0.45*0.55 =0.111375\n",
    "iii) P(pass 1, fail 2) = P(m1)*[1-P(m2)]*[1-P(m3)] = 0.45*0.55*0.55 = 0.136125\n",
    "iv) P(pass no modules) = [1-P(m1)]*[1-P(m2)]*[1-P(m3)] = 0.55*0.55*0.55 = 0.166375\n",
    "\n",
    "So the faction of lectures a student had to attend to pass the module is ,\n",
    "P(mi) = f*P(pass) = cuberoot(0.5) = f*0.9 this implies f = cuberoot(0.5)/0.9 = 88%\n",
    "\n",
    "No this is not a realistic model, as it only considers 1 variable. whereas, in reality there are far more variables that influence the probablity calculation."
   ]
  },
  {
   "cell_type": "markdown",
   "metadata": {},
   "source": [
    "***\n",
    "## QUESTION 2\n",
    "***"
   ]
  },
  {
   "cell_type": "markdown",
   "metadata": {},
   "source": [
    "A computer chip manufacturer suspects that roughly half of its latest batch of CPUs contains a flaw.  The accounts department are clearly concerned, and are trying to predict how the fault will affect the number of customers returning products. How many CPUs from the batch would they need to examine to know the probability that any given CPU is faulty to better than 2.5%?\n",
    "\n",
    "[15 marks]"
   ]
  },
  {
   "cell_type": "markdown",
   "metadata": {},
   "source": [
    "#### Answer:"
   ]
  },
  {
   "cell_type": "markdown",
   "metadata": {},
   "source": [
    "So we assume that the probalility is binomaialy distrabuted, so P(X) ~ p^x(1-p)^(n-x) <br>\n",
    "Assuming that p ~ 0.5 and we are given that we want the value of n that gives P(X) <= 0.25. <br>\n",
    "so 0.25 = (0.5) * (0.5)^n-1 by rearranging and taking logs we get: <br>\n",
    "log(0.025/0.5) = log((0.5)^n-1) which gives n-1 = log(0.025/0.5)/log(0.5)\n",
    "this finally gives n = (log(0.025/0.5)/log(0.5)) + 1 = 4.32192+1 = 5.32 ~ 6 CPUS"
   ]
  },
  {
   "cell_type": "markdown",
   "metadata": {},
   "source": [
    "***\n",
    "## QUESTION 3\n",
    "***"
   ]
  },
  {
   "cell_type": "markdown",
   "metadata": {},
   "source": [
    "A group researching cancer have previously found that the genetic marker D3 is a useful indication that a person will develop the more aggressive form of melanoma skin cancer, in that D3 is present in 65% of the aggressive cases. However the test is expensive.  A rival group claim that the marker M23 is more sensitive than D3, and works out considerably cheaper to test for. The rival research team manage to get DNA samples from 7 patients with the aggressive form of the disease, all of whom test positive for the genetic marker M23. Based on these results, is M23 a better marker for the disease than D3? \n",
    "\n",
    "Give full mathematical working for your reasoning, and show labeled plots of the underlying functions.    \n",
    "\n",
    "[20 marks]"
   ]
  },
  {
   "cell_type": "markdown",
   "metadata": {},
   "source": [
    "#### Answer:"
   ]
  },
  {
   "cell_type": "markdown",
   "metadata": {},
   "source": [
    "So for our question we need to create a null and alternate hypothesis,\n",
    "Null hypothesis: D3 is the best indicator\n",
    "Alternate hypothesis: M23 is the best indicator \n",
    "\n",
    "so below are I have created to posterior lots where I have assume that zero repersents doesnt have the marker and 1 repersents does.\n",
    "\n",
    "For D3 I used mean = 0.65 and std = 1\n",
    "For M23 I used mean = 1 and std = 1\n",
    "\n",
    "We can see from the graphs that M23 is a better indicator for the agressive form, so we reject the null hypothesis"
   ]
  },
  {
   "cell_type": "code",
   "execution_count": 16,
   "metadata": {},
   "outputs": [
    {
     "data": {
      "text/plain": [
       "<matplotlib.legend.Legend at 0x7f059e992d30>"
      ]
     },
     "execution_count": 16,
     "metadata": {},
     "output_type": "execute_result"
    },
    {
     "data": {
      "image/png": "[encoded data removed]",
      "text/plain": [
       "<Figure size 432x288 with 1 Axes>"
      ]
     },
     "metadata": {
      "needs_background": "light"
     },
     "output_type": "display_data"
    }
   ],
   "source": [
    "import numpy as np\n",
    "import pylab as plt\n",
    "import math\n",
    "from scipy.stats import norm\n",
    "x = np.linspace(-3, 5, 30)\n",
    "posteriorH0 = norm.pdf(x, 0.65, 1)\n",
    "posteriorHa = norm.pdf(x, 1, 1)\n",
    "\n",
    "\n",
    "plt.plot(x, posteriorH0, label = 'Null')\n",
    "plt.plot(x, posteriorHa, label = 'Alternate')\n",
    "plt.legend(loc = 'upper right')"
   ]
  },
  {
   "cell_type": "markdown",
   "metadata": {},
   "source": [
    "## Question 4\n",
    "***"
   ]
  },
  {
   "cell_type": "markdown",
   "metadata": {},
   "source": [
    "The state of Florida is thinking of relaxing its policy on alcohol sales, to allow supermarkets to sell hard liquor, since the police predict that this can reduce violence. After some extensive polling, they find that only 33% and 8% of Republican and Independent voters are, respectively, behind the change in the law, while 78% of the Democrat voters are in favour.  You are visiting the state, and ask a Police Officer what she thinks of the idea. She says she’s against the change to the law. What is the probability that she votes Democrat?\n",
    "\n",
    "You will need to quote any sources of information that you use to answer this question, particularly when finding out voting statistics.  You may also assume that ‘Independent’ covers everything that is not ‘Republican’ or ‘Democrat’. \n",
    "\n",
    "[25 marks]"
   ]
  },
  {
   "cell_type": "markdown",
   "metadata": {},
   "source": [
    "#### Answer:"
   ]
  },
  {
   "cell_type": "markdown",
   "metadata": {},
   "source": [
    "information obtained from:https://en.wikipedia.org/wiki/2016_United_States_presidential_election\n",
    "\n",
    "33% of Rebublican, 8% independent and 78% of democrat voters are in favour of law change.\n",
    "She says that she is against the change and what is the probability she votes democrat.\n",
    "\n",
    "format: voters  |  For law change  |  Against law change | total voters\n",
    "Repulican | 33% or 1523902 | 77% or 3093984 | 4617886\n",
    "Independent | 8% or 23762 | 92% or 273263 | 297025\n",
    "Democrat | 78% or 3513881 | 22% or 991094 | 4504975\n",
    "\n",
    "using bayes therom \n",
    "\n",
    "P(D|A) = P(A|D)P(D)/ P(A) = (0.22*0.48)/ 0.46 = 0.22956 = 0.23 implies 23% that she votes democrat\n"
   ]
  },
  {
   "cell_type": "markdown",
   "metadata": {},
   "source": [
    "***\n",
    "## Question 5\n",
    "***"
   ]
  },
  {
   "cell_type": "markdown",
   "metadata": {},
   "source": [
    "Ten new recruits for a basketball team are timed (in secs) in running the 100 meters and 1,500m races to determine how fast they can run. The following results were obtained,\n",
    "\n",
    "| distance | ||||||||||\n",
    "| - |- |-|-|-|-|-|-|-|-|\n",
    "| 100m:\t|\t12\t |11\t|13\t|14\t|12|\t15|\t12|\t16| 10 | 11|\n",
    "|1500m: |\t280|\t290|\t220|\t260|\t270|\t240|\t250|\t230| 280 | 260 | \n",
    "\n",
    "\n",
    "\n",
    "What trends do we see in the data above? Are they significant? \n",
    "\n",
    "Please create your **own statistical functions** when answering this question. Please include any sources you have used to answer this question.  \n",
    "\n",
    "[30 marks]\n",
    "\n",
    "\n"
   ]
  },
  {
   "cell_type": "markdown",
   "metadata": {},
   "source": [
    "#### Answer:"
   ]
  },
  {
   "cell_type": "code",
   "execution_count": 17,
   "metadata": {},
   "outputs": [
    {
     "name": "stdout",
     "output_type": "stream",
     "text": [
      "-0.7078949504828964\n"
     ]
    },
    {
     "data": {
      "image/png": "[encoded data removed]",
      "text/plain": [
       "<Figure size 432x288 with 1 Axes>"
      ]
     },
     "metadata": {
      "needs_background": "light"
     },
     "output_type": "display_data"
    }
   ],
   "source": [
    "import numpy as np\n",
    "import matplotlib.pyplot as plt\n",
    "\n",
    "x = np.array([12,11,13,14,12,15,12,16,10,11])\n",
    "y = np.array([280,290,220,260,270,240,250,230,280,260])\n",
    "x_mean = np.mean(x)\n",
    "y_mean = np.mean(y)\n",
    "x_x = np.zeros((1,10))\n",
    "x_2 = np.zeros((1,10))\n",
    "y_y = np.zeros((1,10))\n",
    "y_2 = np.zeros((1,10))\n",
    "x_y = np.zeros((1,10))\n",
    "\n",
    "for i in range(0,10):\n",
    "    x_x[0][i] = x[i]-x_mean\n",
    "    y_y[0][i] = y[i]-y_mean\n",
    "    x_2[0][i] = (x[i]-x_mean)**2\n",
    "    y_2[0][i] = (y[i]-y_mean)**2 \n",
    "    x_y[0][i] = x_x[0][i]*y_y[0][i]\n",
    "\n",
    "top = np.sum(x_y)\n",
    "bottom = np.sqrt(np.sum(x_2)*np.sum(y_2))\n",
    "r = top/bottom\n",
    "print(r)\n",
    "plt.scatter(x,y)\n",
    "plt.show()\n"
   ]
  },
  {
   "cell_type": "code",
   "execution_count": null,
   "metadata": {},
   "outputs": [],
   "source": [
    "we see its negatively corrilated and as our perasonr gives us a value of r = -0.70789 which\n",
    "gives us a correlation coefficient for an indirect relationship that provides a Strong \n",
    "relationship between the variables"
   ]
  }
 ],
 "metadata": {
  "kernelspec": {
   "display_name": "Python 3",
   "language": "python",
   "name": "python3"
  },
  "language_info": {
   "codemirror_mode": {
    "name": "ipython",
    "version": 3
   },
   "file_extension": ".py",
   "mimetype": "text/x-python",
   "name": "python",
   "nbconvert_exporter": "python",
   "pygments_lexer": "ipython3",
   "version": "3.7.3"
  }
 },
 "nbformat": 4,
 "nbformat_minor": 2
}
