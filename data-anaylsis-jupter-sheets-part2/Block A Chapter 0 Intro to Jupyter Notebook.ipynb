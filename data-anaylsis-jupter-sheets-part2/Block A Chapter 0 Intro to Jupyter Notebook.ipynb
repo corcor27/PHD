{
 "cells": [
  {
   "cell_type": "code",
   "execution_count": 4,
   "metadata": {},
   "outputs": [
    {
     "data": {
      "text/html": [
       "<style>div.warn { background-color: #fcf2f2;border-color: #dFb5b4; border-left: 5px solid #dfb5b4; padding: 0.5em;}</style>"
      ],
      "text/plain": [
       "<IPython.core.display.HTML object>"
      ]
     },
     "execution_count": 4,
     "metadata": {},
     "output_type": "execute_result"
    }
   ],
   "source": [
    "# this is some code to get pretty highlighted cells for the questions - ignore this\n",
    "from IPython.display import HTML\n",
    "style1 = \"<style>div.warn { background-color: #fcf2f2;border-color: #dFb5b4; border-left: 5px solid #dfb5b4; padding: 0.5em;}</style>\"\n",
    "HTML(style1)"
   ]
  },
  {
   "cell_type": "markdown",
   "metadata": {},
   "source": [
    "This notebook we will help you get familiar with Jupyter notebooks - this is important not only for practice required for the assessements, but also to go through some of the basic concepts of the course. Some core concepts of Data Analysis will only be taught via the Jupyter notebooks and exercise sessions (and of course the notes).\n",
    "\n",
    "Jupyter notebooks allow us to write text in cells using the Markdown format.\n",
    "\n",
    "It also allows us to write code in cells, we will use python in this course."
   ]
  },
  {
   "cell_type": "code",
   "execution_count": 5,
   "metadata": {},
   "outputs": [],
   "source": [
    "# define and import some important things \n",
    "import numpy as np\n",
    "import pylab as plt\n",
    "\n",
    "%matplotlib inline "
   ]
  },
  {
   "cell_type": "markdown",
   "metadata": {},
   "source": [
    "<div class=\"warn\">** Question: ** <br><br>\n",
    "\n",
    "Make a cell print out Hello World.\n",
    "</div>"
   ]
  },
  {
   "cell_type": "markdown",
   "metadata": {
    "collapsed": true
   },
   "source": [
    "**Answer:**"
   ]
  },
  {
   "cell_type": "code",
   "execution_count": 3,
   "metadata": {},
   "outputs": [
    {
     "name": "stdout",
     "output_type": "stream",
     "text": [
      "Hello World\n"
     ]
    }
   ],
   "source": [
    "print(\"Hello World\")"
   ]
  },
  {
   "cell_type": "markdown",
   "metadata": {
    "collapsed": true
   },
   "source": [
    "<div class=\"warn\">** Question: ** <br><br>\n",
    "\n",
    "Write some examples that show (i) a heading (ii) something in bold (iii) an equation and (iv) a list.\n",
    "</div>"
   ]
  },
  {
   "cell_type": "markdown",
   "metadata": {},
   "source": [
    "**Answer**"
   ]
  },
  {
   "cell_type": "code",
   "execution_count": null,
   "metadata": {},
   "outputs": [],
   "source": []
  },
  {
   "cell_type": "markdown",
   "metadata": {},
   "source": [
    "*Your answer here:*"
   ]
  },
  {
   "cell_type": "markdown",
   "metadata": {},
   "source": [
    "<div class=warn> **Question:** <br><br> \n",
    "    \n",
    "Perform the following calculations in the three cells below: <br><br>\n",
    "\n",
    "$1+1+2+3+5+81+1+2+3+5+8 $ <br><br>\n",
    " \n",
    "$1∗2∗3∗4∗5∗61∗2∗3∗4∗5∗6 $ <br><br>\n",
    "\n",
    "$2^{10}$\n",
    "\n",
    "</div>"
   ]
  },
  {
   "cell_type": "markdown",
   "metadata": {},
   "source": [
    "**Answer:**"
   ]
  },
  {
   "cell_type": "code",
   "execution_count": 6,
   "metadata": {},
   "outputs": [
    {
     "name": "stdout",
     "output_type": "stream",
     "text": [
      "112\n"
     ]
    }
   ],
   "source": [
    "a = 1+1+2+3+5+81+1+2+3+5+8\n",
    "print(a)"
   ]
  },
  {
   "cell_type": "code",
   "execution_count": 8,
   "metadata": {},
   "outputs": [
    {
     "name": "stdout",
     "output_type": "stream",
     "text": [
      "5270400\n"
     ]
    }
   ],
   "source": [
    "b = 1*2*3*4*5*61*2*3*4*5*6 \n",
    "print(b)"
   ]
  },
  {
   "cell_type": "code",
   "execution_count": 9,
   "metadata": {},
   "outputs": [
    {
     "name": "stdout",
     "output_type": "stream",
     "text": [
      "1024\n"
     ]
    }
   ],
   "source": [
    "c = 2**10\n",
    "print(c)"
   ]
  },
  {
   "cell_type": "markdown",
   "metadata": {},
   "source": [
    "<div class=warn>**Question:** <br><br> \n",
    "\n",
    "A star brightens over time until it explodes as a supernova. Astronomers record the brightness (as a factor of the normal brightness) with days since it started to brighten, recording the following datasets: <br><br>\n",
    "\n",
    "time = [0.,0.08163265,    0.24489796,  0.32653061,  \n",
    "  0.48979592,   0.73469388,  0.81632653,  \n",
    "  0.97959184 ,  1.2244898 ,  1.30612245,  \n",
    "  1.46938776  ,1.71428571,  1.79591837, \n",
    "  1.95918367 ,   2.20408163,  2.28571429,  \n",
    "  2.44897959 ,    2.7755102,\n",
    "  2.93877551 ,  3.18367347 , 3.26530612  ,\n",
    "  3.42857143 , 3.67346939,  3.75510204   , 4.       ]\n",
    "<br><br>\n",
    "\n",
    "brightness = [0.36253211,    1.16748232 ,\n",
    "  1.78775018,  2.01934344 ,   2.70657393 ,\n",
    "  2.57897185,  2.96562829 ,    3.00174824 ,\n",
    "  2.93663326,  2.80591525 ,   2.11027035 ,\n",
    "  1.67940753,  1.64772549 ,  0.3513817  ,\n",
    "  0.33366962,  0.47097419 , -0.39790443,\n",
    " -0.65133529, -1.52086508 , -1.76831912,\n",
    " -2.05865798, -1.55083722 ,-1.90755375 ,\n",
    " -1.74307249, -1.66250842] \n",
    " \n",
    " <br><br>\n",
    "\n",
    "\n",
    "Plot the data.\n",
    "</div>"
   ]
  },
  {
   "cell_type": "markdown",
   "metadata": {},
   "source": [
    "** Answer** "
   ]
  },
  {
   "cell_type": "code",
   "execution_count": 11,
   "metadata": {},
   "outputs": [
    {
     "data": {
      "text/plain": [
       "<matplotlib.collections.PathCollection at 0x7fe77ba1ab38>"
      ]
     },
     "execution_count": 11,
     "metadata": {},
     "output_type": "execute_result"
    },
    {
     "data": {
      "image/png": "[encoded data removed]",
      "text/plain": [
       "<Figure size 432x288 with 1 Axes>"
      ]
     },
     "metadata": {
      "needs_background": "light"
     },
     "output_type": "display_data"
    }
   ],
   "source": [
    "import pylab as plt\n",
    "time = [0.0,0.08163265, 0.24489796, 0.32653061,0.48979592, 0.73469388, 0.81632653,0.97959184 , 1.2244898 , 1.30612245,1.46938776 ,1.71428571, 1.79591837, 1.95918367 , 2.20408163, 2.28571429,2.44897959 , 2.7755102, 2.93877551 , 3.18367347 , 3.26530612 , 3.42857143 , 3.67346939, 3.75510204 , 4.0 ]\n",
    "brightness = [0.36253211, 1.16748232 , 1.78775018, 2.01934344 , 2.70657393 , 2.57897185, 2.96562829 , 3.00174824 , 2.93663326, 2.80591525 , 2.11027035 , 1.67940753, 1.64772549 , 0.3513817 , 0.33366962, 0.47097419 , -0.39790443, -0.65133529, -1.52086508 , -1.76831912, -2.05865798, -1.55083722 ,-1.90755375 , -1.74307249, -1.66250842]\n",
    "plt.scatter(time, brightness)"
   ]
  },
  {
   "cell_type": "markdown",
   "metadata": {},
   "source": [
    "<div class=warn> **Question**<br><br>\n",
    "\n",
    "Repeat the code to make the plot but this time now label the axes.\n",
    "\n",
    "</div>"
   ]
  },
  {
   "cell_type": "markdown",
   "metadata": {},
   "source": [
    "**Answer:**"
   ]
  },
  {
   "cell_type": "code",
   "execution_count": 13,
   "metadata": {},
   "outputs": [
    {
     "data": {
      "text/plain": [
       "<matplotlib.collections.PathCollection at 0x7fe77b988240>"
      ]
     },
     "execution_count": 13,
     "metadata": {},
     "output_type": "execute_result"
    },
    {
     "data": {
      "image/png": "[encoded data removed]",
      "text/plain": [
       "<Figure size 432x288 with 1 Axes>"
      ]
     },
     "metadata": {
      "needs_background": "light"
     },
     "output_type": "display_data"
    }
   ],
   "source": [
    "import pylab as plt\n",
    "time = [0.0,0.08163265, 0.24489796, 0.32653061,0.48979592, 0.73469388, 0.81632653,0.97959184 , 1.2244898 , 1.30612245,1.46938776 ,1.71428571, 1.79591837, 1.95918367 , 2.20408163, 2.28571429,2.44897959 , 2.7755102, 2.93877551 , 3.18367347 , 3.26530612 , 3.42857143 , 3.67346939, 3.75510204 , 4.0 ]\n",
    "brightness = [0.36253211, 1.16748232 , 1.78775018, 2.01934344 , 2.70657393 , 2.57897185, 2.96562829 , 3.00174824 , 2.93663326, 2.80591525 , 2.11027035 , 1.67940753, 1.64772549 , 0.3513817 , 0.33366962, 0.47097419 , -0.39790443, -0.65133529, -1.52086508 , -1.76831912, -2.05865798, -1.55083722 ,-1.90755375 , -1.74307249, -1.66250842]\n",
    "plt.xlabel('Time')\n",
    "plt.ylabel('Brightness')\n",
    "plt.scatter(time, brightness)"
   ]
  },
  {
   "cell_type": "markdown",
   "metadata": {},
   "source": [
    "<div class=warn> **Question**<br><br>\n",
    "\n",
    "Astronomer Rees argues that this data could be fit by the function $y =  A * np.sin(B * x)+C$. Plot this function on top of your data with some guesses at what $A$, $B$ and $C$ are (hint: $C=0.5$ provides a good fit to the data).\n",
    "</div>"
   ]
  },
  {
   "cell_type": "markdown",
   "metadata": {},
   "source": [
    "**Answer**:\n",
    "\n",
    "A, B and C are the paramerters for a fourier transform.\n",
    "A is the amplitude, so as the highest value is 3 we can assume A = 3\n",
    "B is the frequency, so by inspection we see that its approximately 1.5, but after testing I fount that at B = 1.4 provides the best fit\n",
    "C = 0.5 is given"
   ]
  },
  {
   "cell_type": "code",
   "execution_count": 57,
   "metadata": {},
   "outputs": [
    {
     "name": "stdout",
     "output_type": "stream",
     "text": [
      "[0. 1. 2. 3. 4.]\n"
     ]
    },
    {
     "data": {
      "image/png": "[encoded data removed]",
      "text/plain": [
       "<Figure size 432x288 with 1 Axes>"
      ]
     },
     "metadata": {
      "needs_background": "light"
     },
     "output_type": "display_data"
    }
   ],
   "source": [
    "import numpy as np\n",
    "import pylab as plt\n",
    "time = [0.0,0.08163265, 0.24489796, 0.32653061,0.48979592, 0.73469388, 0.81632653,0.97959184 , 1.2244898 , 1.30612245,1.46938776 ,1.71428571, 1.79591837, 1.95918367 , 2.20408163, 2.28571429,2.44897959 , 2.7755102, 2.93877551 , 3.18367347 , 3.26530612 , 3.42857143 , 3.67346939, 3.75510204 , 4.0 ]\n",
    "brightness = [0.36253211, 1.16748232 , 1.78775018, 2.01934344 , 2.70657393 , 2.57897185, 2.96562829 , 3.00174824 , 2.93663326, 2.80591525 , 2.11027035 , 1.67940753, 1.64772549 , 0.3513817 , 0.33366962, 0.47097419 , -0.39790443, -0.65133529, -1.52086508 , -1.76831912, -2.05865798, -1.55083722 ,-1.90755375 , -1.74307249, -1.66250842]\n",
    "x = np.linspace(0, 4, 5)\n",
    "y = 3*np.sin(1.4*x)+0.5\n",
    "plt.xlabel('Time')\n",
    "plt.ylabel('Brightness')\n",
    "plt.scatter(time, brightness)\n",
    "plt.plot(y)\n",
    "print(x)"
   ]
  },
  {
   "cell_type": "markdown",
   "metadata": {},
   "source": [
    "<div class=\"warn\"> **Question:** <br><br>\n",
    "\n",
    "Given the variables:\n",
    "\n",
    "planet = \"Earth\"\n",
    "diameter = 12742\n",
    "\n",
    "Use python and the .format() term to print the following string:\n",
    "\n",
    "The diameter of Earth is 12742 kilometers.\n",
    "</div>"
   ]
  },
  {
   "cell_type": "markdown",
   "metadata": {},
   "source": [
    "**Answer:**"
   ]
  },
  {
   "cell_type": "code",
   "execution_count": 59,
   "metadata": {},
   "outputs": [
    {
     "name": "stdout",
     "output_type": "stream",
     "text": [
      "The diameter of Earth is 12742 Kilometers\n"
     ]
    }
   ],
   "source": [
    "planet = \"Earth\"\n",
    "diameter = 12742\n",
    "\n",
    "print(\"The diameter of {} is {} Kilometers\". format(planet, diameter))"
   ]
  },
  {
   "cell_type": "markdown",
   "metadata": {},
   "source": [
    "<div class=warn>**Question:** <br><br>\n",
    "\n",
    "You are driving too fast and a police officer stops you. Write a function to return one of 3 possible results: \"No ticket\", \"Small ticket\", or \"Big Ticket\". If your speed is 70mph or less, the result is \"No Ticket\". If speed is between 71 and 80mph inclusive, the result is \"Small Ticket\". If speed is 81mph or more, the result is \"Big Ticket\". Unless it is your birthday -- on your birthday, your speed can be 5mph higher in all cases.\n",
    "</div>"
   ]
  },
  {
   "cell_type": "markdown",
   "metadata": {},
   "source": [
    "**Answer:**"
   ]
  },
  {
   "cell_type": "code",
   "execution_count": 88,
   "metadata": {},
   "outputs": [],
   "source": [
    "# Birthday and date format is \"dy/mn\"\n",
    "def Ticket(birthday, date, speed):\n",
    "    if birthday == date:\n",
    "        a = 5\n",
    "    else:\n",
    "        a = 0\n",
    "    \n",
    "    racer = speed - a\n",
    "    if racer <= 70:\n",
    "        print(\"No Ticket\")\n",
    "    elif  71 <= racer <= 80:\n",
    "        print(\"Small Ticket\")\n",
    "    elif racer >= 81:\n",
    "        print(\"Big Ticket\")\n",
    "        \n",
    "        \n",
    "        "
   ]
  },
  {
   "cell_type": "code",
   "execution_count": 89,
   "metadata": {},
   "outputs": [
    {
     "name": "stdout",
     "output_type": "stream",
     "text": [
      "Big Ticket\n"
     ]
    }
   ],
   "source": [
    "Ticket(\"01/02\",\"01/03\",82)"
   ]
  },
  {
   "cell_type": "markdown",
   "metadata": {},
   "source": [
    "Now you've familiarised yourself with the Jupyter notebooks, let's move onto the course material!"
   ]
  }
 ],
 "metadata": {
  "kernelspec": {
   "display_name": "Python 3",
   "language": "python",
   "name": "python3"
  },
  "language_info": {
   "codemirror_mode": {
    "name": "ipython",
    "version": 3
   },
   "file_extension": ".py",
   "mimetype": "text/x-python",
   "name": "python",
   "nbconvert_exporter": "python",
   "pygments_lexer": "ipython3",
   "version": "3.7.3"
  }
 },
 "nbformat": 4,
 "nbformat_minor": 2
}
