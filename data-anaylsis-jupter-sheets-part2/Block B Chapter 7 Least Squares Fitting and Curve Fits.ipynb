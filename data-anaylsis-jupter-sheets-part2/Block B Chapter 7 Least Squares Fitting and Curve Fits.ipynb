{
 "cells": [
  {
   "cell_type": "code",
   "execution_count": 6,
   "metadata": {},
   "outputs": [
    {
     "data": {
      "text/html": [
       "<style>div.warn { background-color: #fcf2f2;border-color: #dFb5b4; border-left: 5px solid #dfb5b4; padding: 0.5em;}</style>"
      ],
      "text/plain": [
       "<IPython.core.display.HTML object>"
      ]
     },
     "execution_count": 6,
     "metadata": {},
     "output_type": "execute_result"
    }
   ],
   "source": [
    "# this is some code to get pretty highlighted cells for the questions - ignore this\n",
    "from IPython.display import HTML\n",
    "style1 = \"<style>div.warn { background-color: #fcf2f2;border-color: #dFb5b4; border-left: 5px solid #dfb5b4; padding: 0.5em;}</style>\"\n",
    "HTML(style1)"
   ]
  },
  {
   "cell_type": "markdown",
   "metadata": {},
   "source": [
    "This notebook covers some worked examples and some examples for you to try relating to **Block B, Chapter 7** in the notes.  This is practice and core material for coursework 2 and 3. The green questions are those most closely related to the assessed work for this module. *Once you have completed this workbook you should be able to attempt QN 3 on coursework 2.*"
   ]
  },
  {
   "cell_type": "markdown",
   "metadata": {},
   "source": [
    "## Least squares fitting straight line/linear regression\n",
    "\n",
    "To fit a straight line to the data we want to express the fit as a linear relation in the form of $y = A + Bx$ where $A$ is the y-intercept and $B$ is the gradient ie the true value of $y_i$ is given by \n",
    "\n",
    "$y_i = A+Bx_i$\n",
    "\n",
    "\n",
    "**Homoscedastic errors**\n",
    "\n",
    "So now we need to assume that the errors associated with $x$ are also normally distributed. Consequently, we can express the probability of obtaining a measurement of $y_i$ as:\n",
    "\n",
    "$p_{A,B}(y_i) \\propto \\dfrac{1}{\\sigma_y} {\\rm exp}\\left( -\\dfrac{(y_i-A-Bx_i)^2}{2\\sigma_y^2}   \\right)$\n",
    "\n",
    "If each $y_i$ at each $x_i$ is drawn randomly, the probability of getting the entire observed data set is\n",
    "\n",
    "$p_{A,B}(y_1,y_2,...y_N)\\propto \\dfrac{1}{\\sigma_y^N} {\\rm exp}\\left( -\\dfrac{\\chi^2}{2}   \\right)$\n",
    "\n",
    "We are trying to maximise the probability of the observed data set then the exponential term must be minimised so $\\chi^2$ (chi-squared) will equal zero. The equation for chi-squared is \n",
    "\n",
    "$\\chi^2 = \\sum^N_{i=1} \\dfrac{(y_i-A-Bx_i)^2}{\\sigma_y^2}$\n",
    "\n",
    "Need to differentiate the above equation and set equal to zero:\n",
    "\n",
    "$ \\dfrac{\\partial \\chi^2 }{\\partial A} = \\dfrac{-2}{\\sigma_y^2} \\sum^N_{i=1} (y_i -A-Bx_i) = 0$\n",
    "\n",
    "$ \\dfrac{\\partial \\chi^2 }{\\partial B} = \\dfrac{-2}{\\sigma_y^2}x_i \\sum^N_{i=1} (y_i -A-Bx_i) = 0$\n",
    "\n",
    "These can be solved and result in the following set of equations (for homoscedastic case) for the best fit parameters are (these are given in the lecture notes)\n",
    "\n",
    "$A = \\dfrac{\\sum x^2 \\sum y - \\sum x \\sum xy} {N\\sum x^2 - (\\sum x)^2}$\n",
    "\n",
    "$B = \\dfrac{N \\sum xy - \\sum x \\sum y} {N\\sum x^2 - (\\sum x)^2}$\n",
    "\n",
    "We can derive these by minimising the chi-squared and maximise of probability of getting the data set observed.\n",
    "\n",
    "We know that $y_i$ are distributed about some true value with spread $\\sigma_y$ but the equations for $A$ and $B$ don't actually depend on this!  But we can estimate the value of $\\sigma_y$ given that true values of $y_i$ should depend on $A$ and $B$. \n",
    "\n",
    "For errors in $A$ and $B$ we need to use the standard deviation of the $y$ data:\n",
    "\n",
    "$\\sigma_y = \\sqrt{ \\dfrac{1}{N} \\sum^N_{i-1} (y_i - A-Bx_i)^2 }$\n",
    "\n",
    "Error propogation results in the following equations for $A$ and $B$:\n",
    "\n",
    "$\\sigma_A = \\sigma_y   \\sqrt{ \\dfrac{\\sum x^2}{N\\sum x^2 - (\\sum x)^2}  }$\n",
    "\n",
    "$\\sigma_B = \\sigma_y   \\sqrt{ \\dfrac{N}{N\\sum x^2 - (\\sum x)^2}  }$\n",
    "\n",
    "\n",
    "**Heteroscedastic errors with a linear fit**\n",
    "\n",
    "Weight the probabilities by the errors where $w = 1/\\sigma^2$\n",
    "\n",
    "$A = \\dfrac{\\sum wx^2 \\sum wy - \\sum wx \\sum wxy }{\\sum w \\sum wx^2 - (\\sum wx)^2}$\n",
    "\n",
    "$B = \\dfrac{\\sum w \\sum wxy - \\sum wx \\sum wy }{\\sum w \\sum wx^2 - (\\sum wx)^2}$"
   ]
  },
  {
   "cell_type": "markdown",
   "metadata": {},
   "source": [
    "**Monte Carlo in fitting data**\n",
    "\n",
    "Suppose we have good reason to think that nature generates values of some physical quantity  $y$  in a way that depends on some other physical quantity  $x$, in the manner of some model, let's say: $y(x)=Ax+B$\n",
    " \n",
    "We would like to find out the values $y$ and ranges of $A$ and $B$ by taking a number of measurements of $y(x)$ to trace the relationship. Suppose also that there is some uncertainty in each of the measurements. \n",
    "\n",
    "To explore how our measurements might behave, we can simulate a large number of hypothetical experiments by using Monte Carlo methods and assess the range of parameters returned from these simulated or \"fake\" experiments.\n",
    "\n",
    "We can approach this by simulating how much each measured $y_i$ we've generated, deviates from the \"true\" value $g_i$ which our model (in the example above, the straight line) predicts.\n"
   ]
  },
  {
   "cell_type": "markdown",
   "metadata": {},
   "source": [
    "## Worked example: Curve fitting"
   ]
  },
  {
   "cell_type": "markdown",
   "metadata": {},
   "source": [
    "In this example, we will generate some fake data and fit a curve to it using `scipy's optimize curvefit` function.  This generates a fit by minimising the sum of the squared residuals of f(xdata,fit parameters) - ydata.  We're going to perturb each data point y by adding on some delta $y$ to create new \"noisy\" data.  \n",
    "\n",
    "To get an error on our \"noisy\" data, we are going to simply generate random variables."
   ]
  },
  {
   "cell_type": "code",
   "execution_count": 1,
   "metadata": {},
   "outputs": [
    {
     "data": {
      "text/plain": [
       "<ErrorbarContainer object of 3 artists>"
      ]
     },
     "execution_count": 1,
     "metadata": {},
     "output_type": "execute_result"
    },
    {
     "data": {
      "image/png": "[encoded data removed]",
      "text/plain": [
       "<Figure size 432x288 with 1 Axes>"
      ]
     },
     "metadata": {
      "needs_background": "light"
     },
     "output_type": "display_data"
    }
   ],
   "source": [
    "from scipy import optimize\n",
    "import numpy as np\n",
    "import pylab as plt \n",
    "%matplotlib inline  \n",
    "\n",
    "# this is a function that we think may explain the data\n",
    "def test_func(x, a,b,c):\n",
    "    return a * np.sin(b * x)+c\n",
    "\n",
    "# generate some fake data\n",
    "# start off with x array\n",
    "xdata = np.linspace(0, 4, 50)\n",
    "# get y from the function above\n",
    "y = test_func(xdata, 2.5, 1.3, 0.5)\n",
    "\n",
    "#N = len(y)\n",
    "# initialise the random_seed for reproducability\n",
    "# ie we will get the same initial random seed every time\n",
    "np.random.seed(1729)\n",
    "# perturb y by this noise\n",
    "y_noise = 0.2*np.random.normal(size=xdata.size)\n",
    "# make new y array that is noisy\n",
    "ydata = y + y_noise\n",
    "\n",
    "# set up y error \n",
    "y_sigma = 0.2*(0.5+np.random.normal(size=xdata.size))\n",
    "\n",
    "\n",
    "# plot the data\n",
    "plt.errorbar(xdata, ydata,yerr=y_sigma,fmt='o',label='data')\n",
    "\n"
   ]
  },
  {
   "cell_type": "code",
   "execution_count": 2,
   "metadata": {},
   "outputs": [
    {
     "name": "stdout",
     "output_type": "stream",
     "text": [
      "Fit parameters A, B and C are 2.485, 1.319 and 0.430\n",
      "\n",
      "covariance matrix [[ 1.23722499e-04  1.45537331e-05  1.29967851e-05]\n",
      " [ 1.45537331e-05  4.12609822e-06 -1.42942955e-08]\n",
      " [ 1.29967851e-05 -1.42942955e-08  4.46367607e-05]]\n"
     ]
    },
    {
     "data": {
      "text/plain": [
       "[<matplotlib.lines.Line2D at 0x101d83a6d0>]"
      ]
     },
     "execution_count": 2,
     "metadata": {},
     "output_type": "execute_result"
    },
    {
     "data": {
      "image/png": "[encoded data removed]",
      "text/plain": [
       "<Figure size 432x288 with 1 Axes>"
      ]
     },
     "metadata": {
      "needs_background": "light"
     },
     "output_type": "display_data"
    }
   ],
   "source": [
    "# get scipy to do the fitting for us\n",
    "# need to include y errors\n",
    "params, params_covariance = optimize.curve_fit(test_func, xdata, ydata,sigma=y_sigma,absolute_sigma=True)\n",
    "print('Fit parameters A, B and C are {:.3f}, {:.3f} and {:.3f}'.format(params[0],params[1],params[2]))\n",
    "print()\n",
    "print('covariance matrix',params_covariance)\n",
    "\n",
    "# plot the data\n",
    "plt.errorbar(xdata, ydata,yerr=y_noise,fmt='o',label='data')\n",
    "plt.xlabel('time (days')\n",
    "plt.ylabel('brightness of star')\n",
    "\n",
    "# plot the fit\n",
    "plt.plot(xdata,test_func(xdata,params[0],params[1],params[2]),lw=2,label='best fit')"
   ]
  },
  {
   "cell_type": "markdown",
   "metadata": {},
   "source": [
    "Look at the output above - we see the variance-covariance matrix from week 3!"
   ]
  },
  {
   "cell_type": "code",
   "execution_count": 3,
   "metadata": {},
   "outputs": [
    {
     "name": "stdout",
     "output_type": "stream",
     "text": [
      "The reduced chi-squared for the fit is 6.133\n"
     ]
    }
   ],
   "source": [
    "import scipy.stats\n",
    "# equation to get reduced chi^2\n",
    "def chi_sq_red(x,y,y_error):\n",
    "    # number of degrees of freedom\n",
    "    n = len(x) - 3 #3 parameters already need to be calculated : a, b + c\n",
    "    result = (1./n)*np.sum(((y-test_func(x,params[0],params[1],params[2]))/y_error)**2.0) \n",
    "    return result\n",
    "\n",
    "# calculate chi^2 of the fit:\n",
    "print('The reduced chi-squared for the fit is {:.3f}'.format(chi_sq_red(xdata,ydata,y_sigma))) \n"
   ]
  },
  {
   "cell_type": "markdown",
   "metadata": {},
   "source": [
    "**General case of Maximum likelihood**\n",
    "\n",
    "In the event of no prior knowledge -- i.e. a flat prior -- The likelihood of a set of model parameters $\\alpha$ given the data $X$, is simply,\n",
    "\n",
    "$\\mathcal{L}(\\alpha) = p(X | \\alpha) = p(x_1 | \\alpha) \\times p(x_2 | \\alpha) \\times \\dotsb \\times p(x_N | \\alpha)$\n",
    "\n",
    "$\\mathcal{L}(\\alpha)\\prod_{i = 1}^N~ p(x_i | \\alpha),$\n",
    "\n",
    "assuming the data points were again independent on one another.  \n",
    "\n",
    "For a Gaussian error distribution, the likehood function is written as:\n",
    "\n",
    "$p(x_i | \\alpha) = \\dfrac{1} {\\sqrt{2\\pi} \\sigma_i} exp \\left( - \\dfrac{ (x_i - \\mu_i(\\alpha))^2 }{ 2\\sigma_i^2 } \\right)$\n",
    "\n",
    "for the probability of each point, so we can write the likelihood function as,\n",
    "\n",
    "$L(\\alpha) = e^{-\\chi^2/2} \\times \\prod_{i = 1}^N \\dfrac{ 1 }{ \\sigma_i } \\times (2\\pi)^{-N/2}.$\n",
    "\n",
    "We can now take the natural log of this to get,\n",
    "\n",
    "$-2\\,\\text{ln}\\,L = \\chi^2 + 2\\sum_{i=1}^N\\,\\text{ln}\\,\\sigma_i + N\\,\\text{ln}(2\\pi)$\n",
    "\n",
    "To maximise $L(\\alpha)$, we then need to minimise $ \\chi^2 + 2\\sum_{i=1}^N\\,\\text{ln}\\,\\sigma_i  $. The maximum likelihood $\\alpha_{ML}$ is then the one that satisfies,\n",
    "\n",
    "$\\dfrac{ \\partial }{ \\partial \\alpha } \\left[ -2~\\text{ln}\\,L(\\alpha) \\right]= 0$\n",
    "\n",
    "and the variance of $\\alpha_{ML}$  this given by,\n",
    "\n",
    "$\\text{var}(\\alpha_{ML}) \\approx  \\dfrac{ 2 } { \\dfrac{ \\partial^2 }{ \\partial \\alpha^2 } \\left[ -2~\\text{ln}\\,L(\\alpha) \\right]_{\\alpha=\\alpha_{ML}} }$"
   ]
  },
  {
   "cell_type": "markdown",
   "metadata": {},
   "source": [
    "## Your turn"
   ]
  },
  {
   "cell_type": "markdown",
   "metadata": {},
   "source": [
    "<div class=\"alert alert-block alert-success\">Question:<br><br>\n",
    "\n",
    "Netflix managers poll their subscribers to see how the fraction of users that watched She-Ra in October 2019 $x$ compares with the age of the viewer $y$ before they decide to commission a new series of the show. This data is available in this folder and is called DataAnalysis_datafile1.dat. \n",
    "\n",
    "Write functions from scratch to fit a straight line to the data quoting all the fit parameters and their errors.  \n",
    "\n",
    "Comment on the goodness of the fit and the uncertainties.\n",
    "</div>"
   ]
  },
  {
   "cell_type": "markdown",
   "metadata": {},
   "source": [
    "**Answer:**"
   ]
  },
  {
   "cell_type": "code",
   "execution_count": 14,
   "metadata": {},
   "outputs": [
    {
     "name": "stdout",
     "output_type": "stream",
     "text": [
      "19.76392722855065 3.9673771514408274\n",
      "0.3311529373410681 0.5266998600175355\n"
     ]
    },
    {
     "data": {
      "image/png": "[encoded data removed]",
      "text/plain": [
       "<Figure size 432x288 with 1 Axes>"
      ]
     },
     "metadata": {
      "needs_background": "light"
     },
     "output_type": "display_data"
    }
   ],
   "source": [
    "import csv\n",
    "import numpy as np\n",
    "import pylab as plt\n",
    "\n",
    "with open('/home/cot12/Documents/DataAnalysis_datafile_1.dat') as csvfile:   # open csv file\n",
    "    readcsv = csv.reader(csvfile, delimiter = ' ') # read file \n",
    "    datax = []\n",
    "    datay = []\n",
    "    for row in readcsv:\n",
    "        x = row[0]\n",
    "        y = row[1]\n",
    "        datax.append(x)\n",
    "        datay.append(y)\n",
    "    datax.pop(0)\n",
    "    datay.pop(0)\n",
    "x_array = np.array(datax, dtype = np.float)\n",
    "value_x_array = np.sum(x_array)\n",
    "y_array = np.array(datay, dtype = np.float)\n",
    "value_y_array = np.sum(y_array)\n",
    "x2_array = np.square(x_array)\n",
    "value_x2_array = np.sum(x2_array)\n",
    "xy_array = np.multiply(x_array,y_array)\n",
    "value_xy_array = np.sum(xy_array)\n",
    "N = len(datax)\n",
    "    \n",
    "A = ((value_x2_array * value_y_array) - (value_x_array * value_xy_array))/((N * value_x2_array) - (value_x_array **2))\n",
    "B = ((N*value_xy_array) - (value_x_array*value_y_array))/ (N * value_x2_array - (value_x_array **2))\n",
    "y_line = A+B*x_array\n",
    "error_A = 1.6*np.sqrt((value_x2_array)/((N * value_x2_array) - (value_x_array **2)))\n",
    "error_B = 1.6*np.sqrt((N)/((N * value_x2_array) - (value_x_array **2)))\n",
    "print(A,B)\n",
    "print(error_A, error_B)\n",
    "plt.plot(x_array, y_line, c = 'r')\n",
    "plt.scatter(x_array,y_array)\n",
    "plt.show()"
   ]
  },
  {
   "cell_type": "markdown",
   "metadata": {},
   "source": [
    "*Your Answer here:*\n"
   ]
  },
  {
   "cell_type": "markdown",
   "metadata": {},
   "source": [
    "<div class=\"alert alert-block alert-success\">Question:<br><br>\n",
    "\n",
    "Use Monte Carlo method to generate data from the datafile above, and derive new fit parameters A and B.\n",
    "</div>"
   ]
  },
  {
   "cell_type": "code",
   "execution_count": 13,
   "metadata": {},
   "outputs": [
    {
     "name": "stdout",
     "output_type": "stream",
     "text": [
      "21.264488850522287 2.38835534116797\n",
      "0.3110532356915778 0.5373946160923747\n"
     ]
    },
    {
     "data": {
      "image/png": "[encoded data removed]",
      "text/plain": [
       "<Figure size 432x288 with 1 Axes>"
      ]
     },
     "metadata": {
      "needs_background": "light"
     },
     "output_type": "display_data"
    }
   ],
   "source": [
    "import numpy as np\n",
    "import pylab as plt\n",
    "\n",
    "R_X = np.random.random(size = 100)\n",
    "R_Y= np.random.randint(12,high=33,size = 100,dtype = 'int')\n",
    "\n",
    "value_x_array = np.sum(R_X)\n",
    "value_y_array = np.sum(R_Y)\n",
    "x2_array = np.square(R_X)\n",
    "value_x2_array = np.sum(x2_array)\n",
    "xy_array = np.multiply(R_X,R_Y)\n",
    "value_xy_array = np.sum(xy_array)\n",
    "N = len(R_X)\n",
    "A = ((value_x2_array * value_y_array) - (value_x_array * value_xy_array))/((N * value_x2_array) - (value_x_array **2))\n",
    "B = ((N*value_xy_array) - (value_x_array*value_y_array))/ (N * value_x2_array - (value_x_array **2))\n",
    "y_line = A+B*R_X\n",
    "error_A = 1.6*np.sqrt((value_x2_array)/((N * value_x2_array) - (value_x_array **2)))\n",
    "error_B = 1.6*np.sqrt((N)/((N * value_x2_array) - (value_x_array **2)))\n",
    "print(A,B)\n",
    "print(error_A, error_B)\n",
    "plt.plot(R_X, y_line, c = 'r')\n",
    "plt.scatter(R_X,R_Y)\n",
    "plt.show()"
   ]
  },
  {
   "cell_type": "markdown",
   "metadata": {},
   "source": [
    "*Your Answer here:*\n"
   ]
  },
  {
   "cell_type": "markdown",
   "metadata": {},
   "source": [
    "<div class=\"warn\">Question:<br><br>\n",
    "\n",
    "M&M's created in the US have 50% red sweets, whereas those created in the UK only have 30% red M&Ms. You draw 5 M&Ms from an unlabeled bag and find that 2 are red.  Where did your M&Ms come from?  Tip: use likelihoods.\n",
    "</div>"
   ]
  },
  {
   "cell_type": "markdown",
   "metadata": {},
   "source": [
    "**Answer:**"
   ]
  },
  {
   "cell_type": "code",
   "execution_count": 19,
   "metadata": {},
   "outputs": [
    {
     "name": "stdout",
     "output_type": "stream",
     "text": [
      "0.03086999999999999 0.03125\n"
     ]
    }
   ],
   "source": [
    "v = 2\n",
    "N = 5\n",
    "theta_uk = 0.3\n",
    "theta_us = 0.5\n",
    "\n",
    "def prob_ber(v, N, theta):\n",
    "    P_theta = ((theta)**v)*((1 - theta)**(N-v))\n",
    "    return P_theta\n",
    "\n",
    "P_theta_uk = prob_ber(v, N, theta_uk)\n",
    "P_theta_us = prob_ber(v, N, theta_us)\n",
    "print(P_theta_uk, P_theta_us)\n",
    "#therefore more likely from US"
   ]
  },
  {
   "cell_type": "markdown",
   "metadata": {},
   "source": [
    "<div class=\"warn\">Question:<br><br>\n",
    "Find out what the scipy.optimize does and write down/define the output parameters below.    \n",
    "</div>    "
   ]
  },
  {
   "cell_type": "markdown",
   "metadata": {},
   "source": [
    "**Answer:**"
   ]
  },
  {
   "cell_type": "markdown",
   "metadata": {},
   "source": [
    "The scipy.optimize package provides several commonly used optimization algorithms\n",
    "\n",
    "The module contains:\n",
    "\n",
    "Unconstrained and constrained minimization of multivariate scalar functions (minimize) using a variety of algorithms (e.g. BFGS, Nelder-Mead simplex, Newton Conjugate Gradient, COBYLA or SLSQP)\n",
    "\n",
    "Global optimization routines (e.g. basinhopping, differential_evolution, shgo, dual_annealing).\n",
    "\n",
    "Least-squares minimization (least_squares) and curve fitting (curve_fit) algorithms\n",
    "\n",
    "Scalar univariate functions minimizers (minimize_scalar) and root finders (root_scalar)\n",
    "\n",
    "Multivariate equation system solvers (root) using a variety of algorithms (e.g. hybrid Powell, Levenberg-Marquardt or large-scale methods such as Newton-Krylov [KK])."
   ]
  }
 ],
 "metadata": {
  "kernelspec": {
   "display_name": "Python 3",
   "language": "python",
   "name": "python3"
  },
  "language_info": {
   "codemirror_mode": {
    "name": "ipython",
    "version": 3
   },
   "file_extension": ".py",
   "mimetype": "text/x-python",
   "name": "python",
   "nbconvert_exporter": "python",
   "pygments_lexer": "ipython3",
   "version": "3.7.3"
  }
 },
 "nbformat": 4,
 "nbformat_minor": 2
}
