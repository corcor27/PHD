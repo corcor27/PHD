{
 "cells": [
  {
   "cell_type": "code",
   "execution_count": 18,
   "metadata": {},
   "outputs": [
    {
     "data": {
      "text/plain": [
       "True"
      ]
     },
     "execution_count": 18,
     "metadata": {},
     "output_type": "execute_result"
    }
   ],
   "source": [
    "import cv2\n",
    "import numpy as np\n",
    "import matplotlib.pyplot as plt\n",
    "import matplotlib.image as mpimg\n",
    "from scipy import ndimage\n",
    "image = '/home/cot12/Documents/test-folder/M/client-1012-133.1.jpg'\n",
    "Beginning_image = cv2.imread(image,0) #read image \"0\" for gray and \"1\" for colour\n",
    "\n",
    "def Image_check_x(image):\n",
    "    p = image.shape[0]\n",
    "    if ((p+3)/4) != int((p+3)/4):\n",
    "        if ((p+2)/4) != int((p+2)/4):\n",
    "            if ((p+1)/4) != int((p+1)/4):\n",
    "                return p\n",
    "            else:\n",
    "                return p+1\n",
    "        else:\n",
    "            return p+2\n",
    "    else:\n",
    "        return p+3\n",
    "\n",
    "\n",
    "\n",
    "def Image_check_y(image):\n",
    "    p = image.shape[1]\n",
    "    if ((p+3)/4) != int((p+3)/4):\n",
    "        if ((p+2)/4) != int((p+2)/4):\n",
    "            if ((p+1)/4) != int((p+1)/4):\n",
    "                return p\n",
    "            else:\n",
    "                return p+1\n",
    "        else:\n",
    "            return p+2\n",
    "    else:\n",
    "        return p+3\n",
    "    \n",
    "    \n",
    "q = int(Image_check_x(Beginning_image))\n",
    "u = int(Image_check_y(Beginning_image))\n",
    "beginning_image = cv2.resize(Beginning_image,(u,q))\n",
    "s = 3\n",
    "k = 2 ** (1.0 / s) #kernals\n",
    "sig = 1.6\n",
    "kvector = np.array([sig, k*sig, sig*(k**2), sig*(k**3), sig*(k**4), sig*(k**5),sig*(k**6), sig*(k**7), sig*(k**8)])\n",
    "c = -1\n",
    "threshold = 1\n",
    "\n",
    "def gauss_blur(sigma):\n",
    "\n",
    "    \"\"\"Function to mimic the 'fspecial' gaussian MATLAB function\n",
    "    \"\"\"\n",
    "    size = 2*np.ceil(3*sigma)+1\n",
    "    x, y = np.mgrid[-size//2 + 1:size//2 + 1, -size//2 + 1:size//2 + 1]\n",
    "    g = np.exp(-((x**2 + y**2)/(2.0*sigma**2)))\n",
    "    return g/g.sum()\n",
    "\n",
    "#pyrlvl[0] = cv2.filter2D(Beginning_image,c, gauss_blur(s,k))\n",
    "#print (gauss_blur(8,5))\n",
    "#plt.imshow(filter_image_Gblur3, cmap ='gray')\n",
    "#cv2.imwrite('/home/cot12/Documents/jup-pads/sky-2.jpg', filter_image_Gblur1)\n",
    "# detA = (dxx*((dyy * dzz)-(dyz**2))) + (dxy*((dxy*dzz)-(dxz*dyz))) + (dxz*((dxy*dxz)-((dyy*dxz))))\n",
    "\n",
    "#create image size variant\n",
    "doubled = cv2.resize((beginning_image), ((2*u),(2*q)))\n",
    "normal = cv2.resize((doubled),(u,q))\n",
    "half = cv2.resize((normal), (int(u/2),int(q/2)))\n",
    "quarter = cv2.resize((half),(int(u/4),int(q/4)))\n",
    "\n",
    "#create zero layer for pyramid\n",
    "pyrlvl1 = np.zeros((doubled.shape[0], doubled.shape[1],6))\n",
    "pyrlvl2 = np.zeros((normal.shape[0], normal.shape[1],6))\n",
    "pyrlvl3 = np.zeros((half.shape[0], half.shape[1],6))\n",
    "pyrlvl4 = np.zeros((quarter.shape[0], quarter.shape[1],6))\n",
    "\n",
    "# create our Gaussian pyramid\n",
    "for i in range(0,6):\n",
    "    pyrlvl2[:,:,i] = ndimage.filters.gaussian_filter(normal, kvector[i])\n",
    "    \n",
    "cv2.imwrite('/home/cot12/Documents/test-folder/tests/blur-1.6-pass1-client-1012-133.1.jpg',pyrlvl2[:,:,0])\n",
    "\n",
    "for i in range(0,6):\n",
    "    pyrlvl2[:,:,i] = ndimage.filters.gaussian_filter(pyrlvl2[:,:,i], kvector[i])\n",
    "cv2.imwrite('/home/cot12/Documents/test-folder/tests/blur-1.6-pass2-client-1012-133.1.jpg',pyrlvl2[:,:,0])\n",
    "\n",
    "for i in range(0,6):\n",
    "    pyrlvl2[:,:,i] = ndimage.filters.gaussian_filter(pyrlvl2[:,:,i], kvector[i])\n",
    "    \n",
    "cv2.imwrite('/home/cot12/Documents/test-folder/tests/blur-1.6-pass3-client-1012-133.1.jpg',pyrlvl2[:,:,0])\n",
    "\n",
    "for i in range(0,6):\n",
    "    pyrlvl2[:,:,i] = ndimage.filters.gaussian_filter(pyrlvl2[:,:,i], kvector[i])\n",
    "cv2.imwrite('/home/cot12/Documents/test-folder/tests/blur-1.6-pass4-client-1012-133.1.jpg',pyrlvl2[:,:,0])\n",
    "\n",
    "for i in range(0,6):\n",
    "    pyrlvl2[:,:,i] = ndimage.filters.gaussian_filter(pyrlvl2[:,:,i], kvector[i])\n",
    "cv2.imwrite('/home/cot12/Documents/test-folder/tests/blur-1.6-pass5-client-1012-133.1.jpg',pyrlvl2[:,:,0])"
   ]
  },
  {
   "cell_type": "code",
   "execution_count": 16,
   "metadata": {},
   "outputs": [
    {
     "name": "stdout",
     "output_type": "stream",
     "text": [
      "10.15936673259648\n"
     ]
    }
   ],
   "source": [
    "u = (k**8)*1.6\n",
    "print(u)"
   ]
  },
  {
   "cell_type": "code",
   "execution_count": null,
   "metadata": {},
   "outputs": [],
   "source": []
  }
 ],
 "metadata": {
  "kernelspec": {
   "display_name": "Python [conda env:CoryEnv]",
   "language": "python",
   "name": "conda-env-CoryEnv-py"
  },
  "language_info": {
   "codemirror_mode": {
    "name": "ipython",
    "version": 3
   },
   "file_extension": ".py",
   "mimetype": "text/x-python",
   "name": "python",
   "nbconvert_exporter": "python",
   "pygments_lexer": "ipython3",
   "version": "3.7.4"
  }
 },
 "nbformat": 4,
 "nbformat_minor": 2
}
