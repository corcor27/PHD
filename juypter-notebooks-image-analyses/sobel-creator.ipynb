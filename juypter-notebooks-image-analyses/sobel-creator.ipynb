{
 "cells": [
  {
   "cell_type": "code",
   "execution_count": 2,
   "metadata": {},
   "outputs": [
    {
     "name": "stderr",
     "output_type": "stream",
     "text": [
      "/home/cot12/anaconda3/envs/CoryEnv/lib/python3.7/site-packages/ipykernel_launcher.py:68: RuntimeWarning: overflow encountered in ubyte_scalars\n"
     ]
    },
    {
     "name": "stdout",
     "output_type": "stream",
     "text": [
      "315.20098319332857 106.00980343935827\n"
     ]
    },
    {
     "data": {
      "image/png": "[encoded data removed]",
      "text/plain": [
       "<Figure size 432x288 with 1 Axes>"
      ]
     },
     "metadata": {
      "needs_background": "light"
     },
     "output_type": "display_data"
    }
   ],
   "source": [
    "import cv2\n",
    "import numpy as np\n",
    "import matplotlib.pyplot as plt\n",
    "import matplotlib.image as mpimg\n",
    "from scipy import ndimage\n",
    "image = '/home/cot12/Documents/test-folder/B/image_10-14-2019_12.jpg'\n",
    "Beginning_image = cv2.imread(image,0) #read image \"0\" for gray and \"1\" for colour\n",
    "\n",
    "def Image_check_x(image):\n",
    "    p = image.shape[0]\n",
    "    if ((p+3)/4) != int((p+3)/4):\n",
    "        if ((p+2)/4) != int((p+2)/4):\n",
    "            if ((p+1)/4) != int((p+1)/4):\n",
    "                return p\n",
    "            else:\n",
    "                return p+1\n",
    "        else:\n",
    "            return p+2\n",
    "    else:\n",
    "        return p+3\n",
    "\n",
    "\n",
    "\n",
    "def Image_check_y(image):\n",
    "    p = image.shape[1]\n",
    "    if ((p+3)/4) != int((p+3)/4):\n",
    "        if ((p+2)/4) != int((p+2)/4):\n",
    "            if ((p+1)/4) != int((p+1)/4):\n",
    "                return p\n",
    "            else:\n",
    "                return p+1\n",
    "        else:\n",
    "            return p+2\n",
    "    else:\n",
    "        return p+3\n",
    "    \n",
    "    \n",
    "q = int(Image_check_x(Beginning_image))\n",
    "u = int(Image_check_y(Beginning_image))\n",
    "beginning_image = cv2.resize(Beginning_image,(u,q))\n",
    "s = 3\n",
    "k = 2 ** (1.0 / s) #kernals\n",
    "sig = 1.6\n",
    "kvector = np.array([sig, k*sig, sig*(k**2), sig*(k**3), sig*(k**4), sig*(k**5),sig*(k**6), sig*(k**7), sig*(k**8)])\n",
    "c = -1\n",
    "threshold = 1\n",
    "\n",
    "\n",
    "doubled = cv2.resize((beginning_image), ((2*u),(2*q)))\n",
    "normal = cv2.resize((doubled),(u,q))\n",
    "pyrlvl = np.zeros((normal.shape[0], normal.shape[1]))    \n",
    "pyrlvlx = np.zeros((normal.shape[0], normal.shape[1]))\n",
    "pyrlvly = np.zeros((normal.shape[0], normal.shape[1]))\n",
    "pyrlvl = ndimage.filters.gaussian_filter(normal,kvector[0])\n",
    "pyrlvlx[:,:] = ndimage.sobel(pyrlvl, 0)\n",
    "pyrlvly[:,:] = ndimage.sobel(pyrlvl, 1)\n",
    "#pyrlvl[:,:] = ndimage.filters.gaussian_filter(normal,kvector[3])\n",
    "Exlvl1 = np.zeros((normal.shape[0], normal.shape[1]))\n",
    "Grmaglvl = np.zeros((normal.shape[0], normal.shape[1]))\n",
    "Orientlvl = np.zeros((normal.shape[0], normal.shape[1]))\n",
    "Orientlvl_absolute = np.zeros((normal.shape[0], normal.shape[1]))\n",
    "value_count = np.zeros((normal.shape[0], normal.shape[1]))\n",
    "Grmaglvl = (((pyrlvlx)**2)+((pyrlvly)**2))**0.5\n",
    "\n",
    "\n",
    "for j in range(1, normal.shape[0]-1):\n",
    "        for k in range(1, normal.shape[1]-1):\n",
    "            Orientlvl[j,k] = np.rint(((180/np.pi)*np.arctan2((pyrlvl[j,k+1]-pyrlvl[j,k-1]),(pyrlvl[j+1,k]-pyrlvl[j-1,k]))))\n",
    "            if Grmaglvl[j,k]> 0:\n",
    "                value_count[j,k] = 1\n",
    "number_values = np.sum(value_count)\n",
    "gradient_values = np.sum(Grmaglvl)\n",
    "mean = gradient_values/number_values\n",
    "lowest_value = np.min(Grmaglvl[np.nonzero(Grmaglvl)])\n",
    "percentile = (mean - lowest_value)/2\n",
    "upper_percentile = mean + percentile\n",
    "lower_percentile = mean - percentile\n",
    "\n",
    "Orientlvl_absolute[:,:] = np.absolute(Orientlvl[:,:])\n",
    "\n",
    "for j in range(1, normal.shape[0]-1):\n",
    "    for k in range(1, normal.shape[1]-1):\n",
    "        if Grmaglvl[j,k] < 200:\n",
    "            continue\n",
    "        if 67.5 < Orientlvl_absolute[j,k] < 112.5:\n",
    "            if Grmaglvl[j,k] < Grmaglvl[j,k+1] and Grmaglvl[j,k] < Grmaglvl[j,k-1]:\n",
    "                Exlvl1[j,k] = 1\n",
    "        elif 0 < Orientlvl_absolute[j,k] < 22.5:\n",
    "            if Grmaglvl[j,k] > Grmaglvl[j+1,k] and Grmaglvl[j,k] > Grmaglvl[j-1,k]:\n",
    "                Exlvl1[j,k] = 1\n",
    "        elif 157.5 < Orientlvl_absolute[j,k] < 181:\n",
    "            if Grmaglvl[j,k] > Grmaglvl[j+1,k] and Grmaglvl[j,k] > Grmaglvl[j-1,k]:\n",
    "                Exlvl1[j,k] = 1\n",
    "        elif 22.5 < Orientlvl_absolute[j,k] < 67.5:\n",
    "            if Orientlvl[j,k] > 0:\n",
    "                if Grmaglvl[j,k] > Grmaglvl[j+1,k+1] and Grmaglvl[j,k] > Grmaglvl[j-1,k-1]:\n",
    "                    Exlvl1[j,k] = 1\n",
    "                else:\n",
    "                    continue\n",
    "            else:\n",
    "                if Grmaglvl[j,k] > Grmaglvl[j-1,k+1] and Grmaglvl[j,k] > Grmaglvl[j+1,k-1]:\n",
    "                    Exlvl1[j,k] = 1\n",
    "        elif 112.5 < Orientlvl_absolute[j,k] < 157.5:\n",
    "            if Orientlvl[j,k] > 0:\n",
    "                if Grmaglvl[j,k] > Grmaglvl[j-1,k+1] and Grmaglvl[j,k] > Grmaglvl[j+1,k-1]:\n",
    "                    Exlvl1[j,k] = 1\n",
    "                else:\n",
    "                    continue\n",
    "            else:\n",
    "                if Grmaglvl[j,k] > Grmaglvl[j+1,k+1] and Grmaglvl[j,k] > Grmaglvl[j-1,k-1]:\n",
    "                    Exlvl1[j,k] = 1\n",
    "exlvl = 255*Exlvl1[:,:]\n",
    "plt.imshow(exlvl)\n",
    "#cv2.imwrite('/home/cot12/Documents/test-folder/tests/client-100-80.1.jpg', exlvl)\n",
    "print(upper_percentile,lower_percentile)"
   ]
  },
  {
   "cell_type": "code",
   "execution_count": 23,
   "metadata": {},
   "outputs": [
    {
     "ename": "AttributeError",
     "evalue": "'NoneType' object has no attribute 'shape'",
     "output_type": "error",
     "traceback": [
      "\u001b[0;31m---------------------------------------------------------------------------\u001b[0m",
      "\u001b[0;31mAttributeError\u001b[0m                            Traceback (most recent call last)",
      "\u001b[0;32m<ipython-input-23-0f2128b65774>\u001b[0m in \u001b[0;36m<module>\u001b[0;34m\u001b[0m\n\u001b[0;32m----> 1\u001b[0;31m \u001b[0mprint\u001b[0m\u001b[0;34m(\u001b[0m\u001b[0mBeginning_image\u001b[0m\u001b[0;34m.\u001b[0m\u001b[0mshape\u001b[0m\u001b[0;34m[\u001b[0m\u001b[0;36m0\u001b[0m\u001b[0;34m]\u001b[0m\u001b[0;34m)\u001b[0m\u001b[0;34m\u001b[0m\u001b[0;34m\u001b[0m\u001b[0m\n\u001b[0m",
      "\u001b[0;31mAttributeError\u001b[0m: 'NoneType' object has no attribute 'shape'"
     ]
    }
   ],
   "source": [
    "print(Beginning_image.shape[0])"
   ]
  },
  {
   "cell_type": "code",
   "execution_count": null,
   "metadata": {},
   "outputs": [],
   "source": []
  }
 ],
 "metadata": {
  "kernelspec": {
   "display_name": "Python [conda env:CoryEnv]",
   "language": "python",
   "name": "conda-env-CoryEnv-py"
  },
  "language_info": {
   "codemirror_mode": {
    "name": "ipython",
    "version": 3
   },
   "file_extension": ".py",
   "mimetype": "text/x-python",
   "name": "python",
   "nbconvert_exporter": "python",
   "pygments_lexer": "ipython3",
   "version": "3.7.4"
  }
 },
 "nbformat": 4,
 "nbformat_minor": 2
}
