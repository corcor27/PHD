{
 "cells": [
  {
   "cell_type": "code",
   "execution_count": 3,
   "metadata": {},
   "outputs": [
    {
     "ename": "NameError",
     "evalue": "name 'pyrlvl' is not defined",
     "output_type": "error",
     "traceback": [
      "\u001b[0;31m---------------------------------------------------------------------------\u001b[0m",
      "\u001b[0;31mNameError\u001b[0m                                 Traceback (most recent call last)",
      "\u001b[0;32m<ipython-input-3-c64c615fdece>\u001b[0m in \u001b[0;36m<module>\u001b[0;34m\u001b[0m\n\u001b[1;32m     62\u001b[0m \u001b[0;34m\u001b[0m\u001b[0m\n\u001b[1;32m     63\u001b[0m \u001b[0;34m\u001b[0m\u001b[0m\n\u001b[0;32m---> 64\u001b[0;31m \u001b[0mpyrlvl\u001b[0m\u001b[0;34m[\u001b[0m\u001b[0;34m:\u001b[0m\u001b[0;34m,\u001b[0m\u001b[0;34m:\u001b[0m\u001b[0;34m]\u001b[0m \u001b[0;34m=\u001b[0m \u001b[0mndimage\u001b[0m\u001b[0;34m.\u001b[0m\u001b[0mfilters\u001b[0m\u001b[0;34m.\u001b[0m\u001b[0mgaussian_filter\u001b[0m\u001b[0;34m(\u001b[0m\u001b[0mnormal\u001b[0m\u001b[0;34m,\u001b[0m\u001b[0mkvector\u001b[0m\u001b[0;34m[\u001b[0m\u001b[0;36m1\u001b[0m\u001b[0;34m]\u001b[0m\u001b[0;34m)\u001b[0m\u001b[0;34m\u001b[0m\u001b[0;34m\u001b[0m\u001b[0m\n\u001b[0m\u001b[1;32m     65\u001b[0m \u001b[0mExlvl1\u001b[0m \u001b[0;34m=\u001b[0m \u001b[0mnp\u001b[0m\u001b[0;34m.\u001b[0m\u001b[0mzeros\u001b[0m\u001b[0;34m(\u001b[0m\u001b[0;34m(\u001b[0m\u001b[0mnormal\u001b[0m\u001b[0;34m.\u001b[0m\u001b[0mshape\u001b[0m\u001b[0;34m[\u001b[0m\u001b[0;36m0\u001b[0m\u001b[0;34m]\u001b[0m\u001b[0;34m,\u001b[0m \u001b[0mnormal\u001b[0m\u001b[0;34m.\u001b[0m\u001b[0mshape\u001b[0m\u001b[0;34m[\u001b[0m\u001b[0;36m1\u001b[0m\u001b[0;34m]\u001b[0m\u001b[0;34m)\u001b[0m\u001b[0;34m)\u001b[0m\u001b[0;34m\u001b[0m\u001b[0;34m\u001b[0m\u001b[0m\n\u001b[1;32m     66\u001b[0m \u001b[0mGrmaglvl\u001b[0m \u001b[0;34m=\u001b[0m \u001b[0mnp\u001b[0m\u001b[0;34m.\u001b[0m\u001b[0mzeros\u001b[0m\u001b[0;34m(\u001b[0m\u001b[0;34m(\u001b[0m\u001b[0mnormal\u001b[0m\u001b[0;34m.\u001b[0m\u001b[0mshape\u001b[0m\u001b[0;34m[\u001b[0m\u001b[0;36m0\u001b[0m\u001b[0;34m]\u001b[0m\u001b[0;34m,\u001b[0m \u001b[0mnormal\u001b[0m\u001b[0;34m.\u001b[0m\u001b[0mshape\u001b[0m\u001b[0;34m[\u001b[0m\u001b[0;36m1\u001b[0m\u001b[0;34m]\u001b[0m\u001b[0;34m)\u001b[0m\u001b[0;34m)\u001b[0m\u001b[0;34m\u001b[0m\u001b[0;34m\u001b[0m\u001b[0m\n",
      "\u001b[0;31mNameError\u001b[0m: name 'pyrlvl' is not defined"
     ]
    }
   ],
   "source": [
    "import cv2\n",
    "import numpy as np\n",
    "import matplotlib.pyplot as plt\n",
    "import matplotlib.image as mpimg\n",
    "from scipy import ndimage\n",
    "\n",
    "\n",
    "\n",
    "image = '/home/cot12/Documents/test-folder/B/image_10-14-2019_12.jpg'\n",
    "#image = r\"C:\\Users\\cory\\Documents\\M\\client-100-84.1.jpg\"\n",
    "Beginning_image = cv2.imread(image,0) #read image \"0\" for gray and \"1\" for colour\n",
    "def Image_check_x(image):\n",
    "    p = image.shape[0]\n",
    "    if ((p+3)/4) != int((p+3)/4):\n",
    "        if ((p+2)/4) != int((p+2)/4):\n",
    "            if ((p+1)/4) != int((p+1)/4):\n",
    "                return p\n",
    "            else:\n",
    "                return p+1\n",
    "        else:\n",
    "            return p+2\n",
    "    else:\n",
    "        return p+3\n",
    "\n",
    "\n",
    "\n",
    "def Image_check_y(image):\n",
    "    p = image.shape[1]\n",
    "    if ((p+3)/4) != int((p+3)/4):\n",
    "        if ((p+2)/4) != int((p+2)/4):\n",
    "            if ((p+1)/4) != int((p+1)/4):\n",
    "                return p\n",
    "            else:\n",
    "                return p+1\n",
    "        else:\n",
    "            return p+2\n",
    "    else:\n",
    "        return p+3\n",
    "    \n",
    "    \n",
    "q = int(Image_check_x(Beginning_image))\n",
    "u = int(Image_check_y(Beginning_image))\n",
    "beginning_image = cv2.resize(Beginning_image,(u,q))\n",
    "s = 3\n",
    "k = 2 ** (1.0 / s) #kernals\n",
    "sig = 1.6\n",
    "kvector = np.array([sig, k*sig, sig*(k**2), sig*(k**3), sig*(k**4), sig*(k**5),sig*(k**6), sig*(k**7), sig*(k**8)])\n",
    "c = -1\n",
    "threshold = 1\n",
    "\n",
    "Blur_image = ndimage.filters.gaussian_filter(beginning_image,5)\n",
    "pyrlvlx = np.zeros((q, u))\n",
    "pyrlvly = np.zeros((q, u))\n",
    "pyrlvlx[:,:] = ndimage.sobel(Blur_image, 0)\n",
    "pyrlvly[:,:] = ndimage.sobel(Blur_image, 1)\n",
    "Grmaglvl = (((pyrlvlx)**2)+((pyrlvly)**2))**0.5\n",
    "\n",
    "doubled = cv2.resize((Grmaglvl), ((2*u),(2*q)))\n",
    "normal = cv2.resize((doubled),(u,q))\n",
    "    \n",
    "\n",
    "   \n",
    "    \n",
    "pyrlvl[:,:] = ndimage.filters.gaussian_filter(normal,kvector[1])\n",
    "Exlvl1 = np.zeros((normal.shape[0], normal.shape[1]))\n",
    "Grmaglvl = np.zeros((normal.shape[0], normal.shape[1]))\n",
    "Orientlvl = np.zeros((normal.shape[0], normal.shape[1]))\n",
    "Orientlvl_absolute = np.zeros((normal.shape[0], normal.shape[1]))\n",
    "\n",
    "    \n",
    "    \n",
    "    \n",
    "for j in range(1, normal.shape[0]-1):\n",
    "    for k in range(1, normal.shape[1]-1):\n",
    "        Grmaglvl[j,k] = (((pyrlvl[j+1,k]-pyrlvl[j-1,k])**2)+((pyrlvl[j,k+1]-pyrlvl[j,k-1])**2))**0.5\n",
    "        Orientlvl[j,k] = np.rint(((180/np.pi)*np.arctan2((pyrlvl[j,k+1]-pyrlvl[j,k-1]),(pyrlvl[j+1,k]-pyrlvl[j-1,k]))))\n",
    "       \n",
    "\n",
    "Orientlvl_absolute[:,:] = np.absolute(Orientlvl[:,:])\n",
    "\n",
    "for j in range(1, normal.shape[0]-1):\n",
    "    for k in range(1, normal.shape[1]-1):\n",
    "        if 67.5 < Orientlvl_absolute[j,k] < 112.5:\n",
    "            if pyrlvl[j,k] < pyrlvl[j,k+1] and pyrlvl[j,k] < pyrlvl[j,k-1]:\n",
    "                Exlvl1[j,k] = 1\n",
    "        elif 0 < Orientlvl_absolute[j,k] < 22.5:\n",
    "            if pyrlvl[j,k] > pyrlvl[j+1,k] and pyrlvl[j,k] > pyrlvl[j-1,k]:\n",
    "                Exlvl1[j,k] = 1\n",
    "        elif 157.5 < Orientlvl_absolute[j,k] < 181:\n",
    "            if pyrlvl[j,k] > pyrlvl[j+1,k] and pyrlvl[j,k] > pyrlvl[j-1,k]:\n",
    "                Exlvl1[j,k] = 1\n",
    "        elif 22.5 < Orientlvl_absolute[j,k] < 67.5:\n",
    "            if Orientlvl[j,k] > 0:\n",
    "                if pyrlvl[j,k] > pyrlvl[j+1,k+1] and pyrlvl[j,k] > pyrlvl[j-1,k-1]:\n",
    "                    Exlvl1[j,k] = 1\n",
    "                else:\n",
    "                    continue\n",
    "            else:\n",
    "                if pyrlvl[j,k] > pyrlvl[j-1,k+1] and pyrlvl[j,k] > pyrlvl[j+1,k-1]:\n",
    "                    Exlvl1[j,k] = 1\n",
    "        elif 112.5 < Orientlvl_absolute[j,k] < 157.5:\n",
    "            if Orientlvl[j,k] > 0:\n",
    "                if pyrlvl[j,k] > pyrlvl[j-1,k+1] and pyrlvl[j,k] > pyrlvl[j+1,k-1]:\n",
    "                    Exlvl1[j,k] = 1\n",
    "                else:\n",
    "                    continue\n",
    "            else:\n",
    "                if pyrlvl[j,k] > pyrlvl[j+1,k+1] and pyrlvl[j,k] > pyrlvl[j-1,k-1]:\n",
    "                    Exlvl1[j,k] = 1\n",
    "exlvl = 255*Exlvl1[:,:]\n",
    "plt.imshow(exlvl)"
   ]
  },
  {
   "cell_type": "code",
   "execution_count": 2,
   "metadata": {},
   "outputs": [],
   "source": [
    "image = '/home/cot12/Documents/test-folder/M/client-1002-884.1.jpg'\n",
    "edge_detection(image)"
   ]
  },
  {
   "cell_type": "code",
   "execution_count": 88,
   "metadata": {},
   "outputs": [
    {
     "data": {
      "text/plain": [
       "True"
      ]
     },
     "execution_count": 88,
     "metadata": {},
     "output_type": "execute_result"
    }
   ],
   "source": []
  },
  {
   "cell_type": "code",
   "execution_count": null,
   "metadata": {},
   "outputs": [],
   "source": []
  }
 ],
 "metadata": {
  "kernelspec": {
   "display_name": "Python [conda env:CoryEnv]",
   "language": "python",
   "name": "conda-env-CoryEnv-py"
  },
  "language_info": {
   "codemirror_mode": {
    "name": "ipython",
    "version": 3
   },
   "file_extension": ".py",
   "mimetype": "text/x-python",
   "name": "python",
   "nbconvert_exporter": "python",
   "pygments_lexer": "ipython3",
   "version": "3.7.4"
  }
 },
 "nbformat": 4,
 "nbformat_minor": 2
}
