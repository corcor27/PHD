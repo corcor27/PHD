{
 "cells": [
  {
   "cell_type": "code",
   "execution_count": 31,
   "metadata": {},
   "outputs": [
    {
     "name": "stdout",
     "output_type": "stream",
     "text": [
      "590.5 832.0 1590.5 1832.0\n"
     ]
    }
   ],
   "source": [
    "x1 = 917\n",
    "x2 = 1264\n",
    "y1 = 1196\n",
    "y2 = 1468\n",
    "x_centre = (x1 + x2) / 2 \n",
    "x_upper = x_centre + 500\n",
    "x_lower = x_centre - 500\n",
    "y_centre = (y1 + y2) / 2 \n",
    "y_upper = y_centre + 500\n",
    "y_lower = y_centre - 500\n",
    "print (x_lower, y_lower, x_upper, y_upper)"
   ]
  },
  {
   "cell_type": "code",
   "execution_count": 33,
   "metadata": {},
   "outputs": [],
   "source": [
    "from PIL import Image\n",
    "img = Image.open(\"boob-test3.png\")\n",
    "img3 = img.crop((x_lower, y_lower, x_upper, y_upper))\n",
    "img3.save(\"OP-db1-746.jpg\")"
   ]
  },
  {
   "cell_type": "code",
   "execution_count": null,
   "metadata": {},
   "outputs": [],
   "source": []
  }
 ],
 "metadata": {
  "kernelspec": {
   "display_name": "Python [conda env:CoryEnv] *",
   "language": "python",
   "name": "conda-env-CoryEnv-py"
  },
  "language_info": {
   "codemirror_mode": {
    "name": "ipython",
    "version": 3
   },
   "file_extension": ".py",
   "mimetype": "text/x-python",
   "name": "python",
   "nbconvert_exporter": "python",
   "pygments_lexer": "ipython3",
   "version": "3.7.4"
  }
 },
 "nbformat": 4,
 "nbformat_minor": 2
}
